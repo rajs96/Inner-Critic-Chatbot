{
 "cells": [
  {
   "cell_type": "code",
   "execution_count": 1,
   "id": "c920a517-ad88-4e64-af6b-c99503bfa075",
   "metadata": {},
   "outputs": [],
   "source": [
    "import pandas as pd\n",
    "import openai\n",
    "from config import SEED_INSTANCE_GENERATION_CONFIG\n",
    "from utils.misc import read_json"
   ]
  },
  {
   "cell_type": "code",
   "execution_count": 2,
   "id": "b99286f9-cf61-4f5d-8f66-96cedf961a20",
   "metadata": {},
   "outputs": [],
   "source": [
    "seed_instances_path = SEED_INSTANCE_GENERATION_CONFIG[\"seed_instances_output_path\"]"
   ]
  },
  {
   "cell_type": "code",
   "execution_count": 3,
   "id": "107b399b-e1ad-43b9-9035-ac6fe7bc8d14",
   "metadata": {},
   "outputs": [
    {
     "data": {
      "text/plain": [
       "'/workspaces/Inner-Critic-Chatbot/data/training_data/seed_instances_v1.txt'"
      ]
     },
     "execution_count": 3,
     "metadata": {},
     "output_type": "execute_result"
    }
   ],
   "source": [
    "seed_instances_path"
   ]
  },
  {
   "cell_type": "code",
   "execution_count": 4,
   "id": "9cb2e07c-75cd-424b-a0a0-c5ad268412fd",
   "metadata": {},
   "outputs": [],
   "source": [
    "SEED_INSTANCES = read_json(seed_instances_path)"
   ]
  },
  {
   "cell_type": "code",
   "execution_count": 5,
   "id": "1bb23b93-23c2-495b-8dee-c0379dab22e1",
   "metadata": {},
   "outputs": [],
   "source": [
    "df = pd.DataFrame.from_records(SEED_INSTANCES)"
   ]
  },
  {
   "cell_type": "code",
   "execution_count": 26,
   "id": "8afe85bb-17a1-43c2-844a-3a9889c5b7a9",
   "metadata": {},
   "outputs": [
    {
     "name": "stdout",
     "output_type": "stream",
     "text": [
      "Input: I've been trying to contribute to the team by presenting a new strategy, but it feels like my colleagues just brush me off like I'm not even there. It's like my ideas don't matter to them. I don't know why, but I can't help but feel this overwhelming sense of shame. It's as if I'm not good enough to be taken seriously. The more I try to speak up, the more I feel like I'm being judged and dismissed. It's like I'm trapped in this cycle of embarrassment and self-doubt. I wish I had the confidence to stand up for myself and prove that my ideas are valuable. But right now, all I can think about is how ashamed I am for not being able to make my voice heard. It's eating away at my self-worth and making me question my abilities. I just want to be seen and respected by my colleagues, but I don't know how to overcome this fear of being judged.\n",
      "Scenario: An employee is asked to present a new strategy to the team, but he feels that his colleagues don't take him seriously.\n",
      "Theme: Fear of Being Judged\n",
      "Emotion: Ashamed\n",
      "\n",
      "\n",
      "Input: Why do I always feel like I'm being judged for being a working single mom? It's frustrating to constantly worry about what others think of me. I just want to focus on providing for my child without feeling guilty.\n",
      "Scenario: A single mother struggles to balance work and childcare responsibilities.\n",
      "Theme: Fear of What Others Think\n",
      "Emotion: Angry\n",
      "\n",
      "\n",
      "Input: I just can't seem to stay in the zone during games. My mind feels clouded and my focus slips away. It's like I'm trapped in a fog of self-doubt, and I can't break free. Every mistake I make on the field just confirms my fear of rejection. I feel so defeated and worthless. It's as if my confidence has been shattered into a million pieces. How can I overcome this constant feeling of despair? I wish I could find the strength to believe in myself again, to trust that I am capable of success. The weight of disappointment feels suffocating, and I fear that I will never escape this cycle of defeat. It's a never-ending battle between my dreams and my fear of rejection.\n",
      "Scenario: A soccer player struggles to maintain his focus during the game, leading to mistakes.\n",
      "Theme: Fear of Rejection\n",
      "Emotion: Depressed\n",
      "\n",
      "\n",
      "Input: I don't understand why my partner is always busy with work. It feels like they prioritize work over our relationship. When I try to talk to them about it, they seem disinterested and brush it off. It's as if my needs and feelings don't matter to them.\n",
      "Scenario: A woman feels neglected because her partner is always busy with work and does not spend quality time with her.\n",
      "Theme: Fear of Being Judged\n",
      "Emotion: Confused\n",
      "\n",
      "\n",
      "Input: I've been giving my all at work, but it feels like no matter what I do, it's never good enough. I've been with this company for years, and I've made significant contributions, but when it comes to negotiating a raise, I always doubt my worth. It's really depressing to think that my hard work and dedication might not be recognized.\n",
      "Scenario: An experienced engineer struggles to negotiate a raise with his employer, despite his significant contributions to the company.\n",
      "Theme: Not being good enough\n",
      "Emotion: Depressed\n",
      "\n",
      "\n",
      "Input: I'm feeling torn about a decision I have to make. It's really hard for me. My job is offering me a great opportunity in another city, but my husband doesn't want to leave his family behind. I can't help but feel sad about it. It's like a heavy weight on my chest, knowing that someone I love is against this move. I wish there was a way for both of us to be happy without feeling rejected by each other.\n",
      "Scenario: A wife wants to relocate for her job, but the husband doesn't want to move away from his family.\n",
      "Theme: Fear of Rejection\n",
      "Emotion: Sad\n",
      "\n",
      "\n",
      "Input: I can't believe I'm still stuck in this tiny rented apartment. It's like I'm trapped in a cage, constantly reminded of my financial failure. The shame and embarrassment wash over me every time I see my neighbors living in their own homes, with their families. I feel like a complete failure, unable to provide for myself and create a stable life. The weight of my self-criticism is suffocating, as if I'm being crushed by my own inadequacy. How did I end up like this? Is this the best I can do? I try to keep up a brave face, but deep down, I'm consumed by the fear of judgment and the belief that I'm just not good enough. This constant inner voice tells me that I should be further along in life by now, that I should have accomplished more. I can't escape the feeling of disappointment in myself, as if I've let down everyone who ever believed in me. It's a constant battle between\n",
      "Scenario: A man in his mid-forties feels embarrassed about still living in a rented apartment due to his low income.\n",
      "Theme: Harsh Inner Criticism\n",
      "Emotion: Ashamed\n",
      "\n",
      "\n",
      "Input: I just don't understand why I can never seem to keep up with my expenses. It's like no matter how much money I make, I always end up in debt. And then I start worrying about what people will think of me. It's just so confusing and frustrating.\n",
      "Scenario: A high-income individual struggles with maintaining a lavish lifestyle and is constantly in debt.\n",
      "Theme: Fear of Being Judged\n",
      "Emotion: Confused\n",
      "\n",
      "\n",
      "Input: I'm so scared that one mistake will ruin everything. The pressure to maintain my perfect GPA is overwhelming. My heart races whenever I think about not meeting my own expectations. It's like a constant weight on my shoulders, suffocating me. I can't help but think that everyone expects me to be perfect, and I'm terrified of disappointing them. The fear of failure is consuming me, making it hard to focus on anything else. I feel like I'm walking on a tightrope, afraid to slip up even for a moment. This constant anxiety is draining, and I just want to find a way to let go of this fear.\n",
      "Scenario: A straight-A student feels immense pressure to maintain her perfect GPA, leading to high stress and anxiety.\n",
      "Theme: Perfectionism\n",
      "Emotion: Scared\n",
      "\n",
      "\n",
      "Input: I just can't seem to find a balance between work and family. It's frustrating how my job takes up so much of my time and energy. My heart aches when I see my kids longing for my attention, but I can't be there for them as much as I want to. The pressure to provide for my family is immense, but it feels like I'm sacrificing their happiness in the process. It's infuriating that I have to choose between being a good provider and being a present father. I wish there was a way to break free from this never-ending cycle of anger and guilt.\n",
      "Scenario: A father wants to spend quality time with his children, but his demanding job doesn't allow him to.\n",
      "Theme: Fear of Being Arrogant\n",
      "Emotion: Angry\n",
      "\n",
      "\n"
     ]
    }
   ],
   "source": [
    "for i, example in df.sample(n=10).iterrows():\n",
    "    print(f'Input: {example.input}')\n",
    "    print(f'Scenario: {example.scenario}')\n",
    "    print(f'Theme: {example.theme}')\n",
    "    print(f'Emotion: {example.emotion}')\n",
    "    print(\"\\n\")"
   ]
  },
  {
   "cell_type": "code",
   "execution_count": 6,
   "id": "32f9631c-a613-4b25-bb9b-81ebfbfe9085",
   "metadata": {},
   "outputs": [],
   "source": [
    "EMOTION_IDENTIFICATION_TASK = '''\n",
    "Instruction: Move towards the user by identifying the emotion they are likely feeling, and assure them that you're listening.\n",
    "'''\n",
    "\n",
    "FEAR_EXPLORATION_TASK = '''\n",
    "Instruction: Explore the root fear the user may be feeling.\n",
    "'''\n",
    "\n",
    "EMOTION_VALIDATION_TASK = '''\n",
    "Instruction: Enthusiastically affirm that the feeling the user is having is normal.\n",
    "'''\n",
    "\n",
    "HYPOTHETICAL_EXPLORATION_TASK = '''\n",
    "Instruction: Encourage the user to consider what might happen if they acted\n",
    "differently from how their fear may want them to.\n",
    "'''\n",
    "\n",
    "CLARIFICATION_EXPLORATION_TASK = '''\n",
    "Instruction: To understand the user's situation further, ask a clarifying question.\n",
    "'''\n",
    "\n",
    "TEMPORAL_EXPLORATION_TASK = '''\n",
    "Instruction: Explore how the user has felt at different times.\n",
    "'''"
   ]
  },
  {
   "cell_type": "code",
   "execution_count": 7,
   "id": "09c22c6e-dc64-484c-a4f8-778d8cb07391",
   "metadata": {},
   "outputs": [],
   "source": [
    "INSTRUCTION_GENERATION_SYSTEM_MESSAGE = '''\n",
    "You are to generate a context-relevant instruction that will be given to a chatbot, which will be used to guide the response of the chatbot.\n",
    "The chatbot helps people process their thoughts and problems, which will generally relate to self-doubt, low self-worth, and inner criticism.\n",
    "\n",
    "You will be given the following pieces of information about the user:\n",
    "- User prompt input: The prompt given by the user of the chatbot.\n",
    "- User scenario: The scenario that the user is describing to the chatbot.\n",
    "\n",
    "You will be given the following pieces information about the instruction to generate:\n",
    "- The intention the generic instruction to rewrite\n",
    "'''"
   ]
  },
  {
   "cell_type": "code",
   "execution_count": null,
   "id": "e7c84396-065f-4b93-a2a0-3ddde4106bb4",
   "metadata": {},
   "outputs": [],
   "source": [
    "response = openai.ChatCompletion.create(\n",
    "    model=\"gpt-4\",\n",
    "    messages=[\n",
    "        {\"role\": \"system\", \"content\": SYSTEM_PROMPT_USER_INPUT},\n",
    "        {\"role\": \"user\", \"content\": prompt}\n",
    "    ],\n",
    "    temperature=1.0,\n",
    "    top_p=0.9,\n",
    "    max_tokens=512\n",
    ")"
   ]
  }
 ],
 "metadata": {
  "kernelspec": {
   "display_name": "Python 3 (ipykernel)",
   "language": "python",
   "name": "python3"
  },
  "language_info": {
   "codemirror_mode": {
    "name": "ipython",
    "version": 3
   },
   "file_extension": ".py",
   "mimetype": "text/x-python",
   "name": "python",
   "nbconvert_exporter": "python",
   "pygments_lexer": "ipython3",
   "version": "3.10.8"
  }
 },
 "nbformat": 4,
 "nbformat_minor": 5
}
